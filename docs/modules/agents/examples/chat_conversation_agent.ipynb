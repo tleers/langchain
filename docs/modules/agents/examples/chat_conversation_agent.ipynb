{
 "cells": [
  {
   "cell_type": "markdown",
   "id": "4658d71a",
   "metadata": {},
   "source": [
    "# Conversation Agent (for Chat Models)\n",
    "\n",
    "This notebook walks through using an agent optimized for conversation, using ChatModels. Other agents are often optimized for using tools to figure out the best response, which is not ideal in a conversational setting where you may want the agent to be able to chat with the user as well.\n",
    "\n",
    "This is accomplished with a specific type of agent (`chat-conversational-react-description`) which expects to be used with a memory component."
   ]
  },
  {
   "cell_type": "code",
   "execution_count": 1,
   "id": "f65308ab",
   "metadata": {},
   "outputs": [],
   "source": [
    "from langchain.agents import Tool\n",
    "from langchain.memory import ConversationBufferMemory\n",
    "from langchain.chat_models import ChatOpenAI\n",
    "from langchain.utilities import GoogleSearchAPIWrapper\n",
    "from langchain.agents import initialize_agent"
   ]
  },
  {
   "cell_type": "code",
   "execution_count": 10,
   "id": "5fb14d6d",
   "metadata": {},
   "outputs": [],
   "source": [
    "search = GoogleSearchAPIWrapper()\n",
    "tools = [\n",
    "    Tool(\n",
    "        name = \"Current Search\",\n",
    "        func=search.run,\n",
    "        description=\"useful for when you need to answer questions about current events or the current state of the world. the input to this should be a single search term.\"\n",
    "    ),\n",
    "]"
   ]
  },
  {
   "cell_type": "code",
   "execution_count": 11,
   "id": "dddc34c4",
   "metadata": {},
   "outputs": [],
   "source": [
    "memory = ConversationBufferMemory(memory_key=\"chat_history\", return_messages=True)"
   ]
  },
  {
   "cell_type": "code",
   "execution_count": 12,
   "id": "cafe9bc1",
   "metadata": {},
   "outputs": [],
   "source": [
    "llm=ChatOpenAI(temperature=0)\n",
    "agent_chain = initialize_agent(tools, llm, agent=\"chat-conversational-react-description\", verbose=True, memory=memory)"
   ]
  },
  {
   "cell_type": "code",
   "execution_count": 13,
   "id": "dc70b454",
   "metadata": {},
   "outputs": [
    {
     "name": "stdout",
     "output_type": "stream",
     "text": [
      "\n",
      "\n",
      "\u001b[1m> Entering new AgentExecutor chain...\u001b[0m\n",
      "\u001b[32;1m\u001b[1;3mHello Bob! How can I assist you today?\u001b[0m\n",
      "\n",
      "\u001b[1m> Finished chain.\u001b[0m\n"
     ]
    },
    {
     "data": {
      "text/plain": [
       "'Hello Bob! How can I assist you today?'"
      ]
     },
     "execution_count": 13,
     "metadata": {},
     "output_type": "execute_result"
    }
   ],
   "source": [
    "agent_chain.run(input=\"hi, i am bob\")"
   ]
  },
  {
   "cell_type": "code",
   "execution_count": 14,
   "id": "3dcf7953",
   "metadata": {},
   "outputs": [
    {
     "name": "stdout",
     "output_type": "stream",
     "text": [
      "\n",
      "\n",
      "\u001b[1m> Entering new AgentExecutor chain...\u001b[0m\n",
      "\u001b[32;1m\u001b[1;3mYour name is Bob!\u001b[0m\n",
      "\n",
      "\u001b[1m> Finished chain.\u001b[0m\n"
     ]
    },
    {
     "data": {
      "text/plain": [
       "'Your name is Bob!'"
      ]
     },
     "execution_count": 14,
     "metadata": {},
     "output_type": "execute_result"
    }
   ],
   "source": [
    "agent_chain.run(input=\"what's my name?\")"
   ]
  },
  {
   "cell_type": "code",
   "execution_count": 15,
   "id": "aa05f566",
   "metadata": {},
   "outputs": [
    {
     "name": "stdout",
     "output_type": "stream",
     "text": [
      "\n",
      "\n",
      "\u001b[1m> Entering new AgentExecutor chain...\u001b[0m\n",
      "\u001b[32;1m\u001b[1;3m{\n",
      "  \"action\": \"Current Search\",\n",
      "  \"action_input\": \"good thai food recipes for dinner this week\"\n",
      "}\u001b[0m\n",
      "Observation: \u001b[36;1m\u001b[1;3mNov 4, 2022 ... Get your hands dirty with Phoebe Wood's sticky thai-style chicken wings. Easy entertaining at its best. Dec 7, 2021 ... All of these Thai dishes are vibrant and bursting with flavor! Pick a few to try this week and let us know your favorites. The BEST Pad Thai! Jul 29, 2021 ... Most of the times, except for a few very authentic Thai restaurants, you will end up with pretty bland and mild Thai food in so many restaurants ... Dec 9, 2021 ... Skip the takeout restaurant and give this easy pad thai recipe a try if ... Khao soi is an ever-popular North Thai dish—and for good reason! Items 1 - 24 of 38 ... Enjoy an impressive homemade Thai tom yum soup that's healthy and ... This quick dinner is ready in under 20 minutes and flavoured with ... May 3, 2021 ... Thai cuisine has an extensive and varied repertoire of sophisticated dishes that we're just starting to explore in the U.S. If you're ready ... Jul 14, 2022 ... Upgrade your dinner and have some fun trying them out! For a unique Asian feast that features a perfect blend of flavors, Thai cuisine is the ... Dec 19, 2022 ... What to eat in Thailand? Here are the 30 famous traditional Thai food and dishes you must try, from pad Thai and Thai fried rice to Thai ... Named “Best Thai Restaurant” in Washington, DC, in every Washington City ... and dinner seven days a week, feature a full bar of craft cocktails, great ... Jul 20, 2021 ... Thai food is one of the hottest cuisines, so why not plan an authentic Thai dinner for your family or friends?\u001b[0m\n",
      "Thought:\u001b[32;1m\u001b[1;3mBased on my search, there are many delicious Thai dishes that you could make for dinner this week! Some popular options include sticky Thai-style chicken wings, pad Thai, khao soi (a popular North Thai dish), Thai tom yum soup, and Thai fried rice. You could also try making a Thai curry or stir-fry with your favorite vegetables and protein. There are many great recipes available online, so you should be able to find something that suits your taste preferences.\u001b[0m\n",
      "\n",
      "\u001b[1m> Finished chain.\u001b[0m\n"
     ]
    },
    {
     "data": {
      "text/plain": [
       "'Based on my search, there are many delicious Thai dishes that you could make for dinner this week! Some popular options include sticky Thai-style chicken wings, pad Thai, khao soi (a popular North Thai dish), Thai tom yum soup, and Thai fried rice. You could also try making a Thai curry or stir-fry with your favorite vegetables and protein. There are many great recipes available online, so you should be able to find something that suits your taste preferences.'"
      ]
     },
     "execution_count": 15,
     "metadata": {},
     "output_type": "execute_result"
    }
   ],
   "source": [
    "agent_chain.run(\"what are some good dinners to make this week, if i like thai food?\")"
   ]
  },
  {
   "cell_type": "code",
   "execution_count": 16,
   "id": "c5d8b7ea",
   "metadata": {},
   "outputs": [
    {
     "name": "stdout",
     "output_type": "stream",
     "text": [
      "\n",
      "\n",
      "\u001b[1m> Entering new AgentExecutor chain...\u001b[0m\n",
      "\u001b[32;1m\u001b[1;3m{\n",
      "  \"action\": \"Current Search\",\n",
      "  \"action_input\": \"who won the world cup in 1978\"\n",
      "}\u001b[0m\n",
      "Observation: \u001b[36;1m\u001b[1;3mThe Cup was won by the host nation, Argentina, who defeated the Netherlands 3–1 in the final, after extra time. The final was held at River Plate's home stadium ... Amid Argentina's celebrations, there was sympathy for the Netherlands, runners-up for the second tournament running, following a 3-1 final defeat at the Estadio ... The match was won by the Argentine squad in extra time by a score of 3–1. Mario Kempes, who finished as the tournament's top scorer, was named the man of the ... May 21, 2022 ... Argentina won the World Cup for the first time in their history, beating Netherlands 3-1 in the final. This edition of the World Cup was full of ... Jun 14, 2018 ... On a clear afternoon on 1 June 1978 at the revamped El Monumental stadium in Buenos Aires' Belgrano barrio, several hundred children in white ... Dec 15, 2022 ... The tournament couldn't have gone better for the ruling junta. Argentina went on to win the championship, defeating the Netherlands, 3-1, in the ... Holders West Germany failed to beat Holland and Italy and were eliminated when Berti Vogts' own goal gave Austria a 3-2 victory. Holland thrashed the Austrians ... Nov 30, 2022 ... Mexico fails to advance out of the group stage for the first time since 1978 despite 2-1 win on Wednesday. By virtue of goal differential, ... Feb 9, 2012 ... Peru agreed to throw a game against eventual winners Argentina during the 1978 World Cup in South America in order to help the hosts ... Jun 16, 2010 ... As part of our Saga Africa series, The Africa Report takes a look at memorable African moments from World Cup history. In 1978 Tunisia made ...\u001b[0m\n",
      "Thought:\u001b[32;1m\u001b[1;3mThe last letter in your name is \"b\". And according to my search, the winner of the 1978 World Cup was Argentina. They defeated the Netherlands 3-1 in the final, which was held at River Plate's home stadium in Buenos Aires. Mario Kempes, who finished as the tournament's top scorer, was named the man of the match.\u001b[0m\n",
      "\n",
      "\u001b[1m> Finished chain.\u001b[0m\n"
     ]
    },
    {
     "data": {
      "text/plain": [
       "'The last letter in your name is \"b\". And according to my search, the winner of the 1978 World Cup was Argentina. They defeated the Netherlands 3-1 in the final, which was held at River Plate\\'s home stadium in Buenos Aires. Mario Kempes, who finished as the tournament\\'s top scorer, was named the man of the match.'"
      ]
     },
     "execution_count": 16,
     "metadata": {},
     "output_type": "execute_result"
    }
   ],
   "source": [
    "agent_chain.run(input=\"tell me the last letter in my name, and also tell me who won the world cup in 1978?\")"
   ]
  },
  {
   "cell_type": "code",
   "execution_count": 17,
   "id": "f608889b",
   "metadata": {},
   "outputs": [
    {
     "name": "stdout",
     "output_type": "stream",
     "text": [
      "\n",
      "\n",
      "\u001b[1m> Entering new AgentExecutor chain...\u001b[0m\n",
      "\u001b[32;1m\u001b[1;3m{\n",
      "  \"action\": \"Current Search\",\n",
      "  \"action_input\": \"current temperature in pomfret\"\n",
      "}\u001b[0m\n",
      "Observation: \u001b[36;1m\u001b[1;3mMostly cloudy with gusty winds developing during the afternoon. A few flurries or snow showers possible. High near 40F. Winds NNW at 20 to 30 mph. Pomfret, CT Weather Forecast, with current conditions, wind, air quality, and what to expect for the next 3 days. Pomfret Center Weather Forecasts. Weather Underground provides local ... Today's temperature is forecast to be COOLER than yesterday. Radar; Satellite. Pomfret CT · This Afternoon. This Afternoon: A chance of rain, mainly after 3pm. · Tonight. Tonight: Rain. · Tuesday. Tuesday: Rain and snow, becoming all snow ... Temperature (°F), Actual, Historic Avg. Record. High Temp, 70, 71, 92. Low Temp, 57, 52.1, 36. Day Average Temp, 64.39, 61.5, -. Precipitation (in), Actual ... Pomfret, MD Weather · Current Report for Sat Mar 11 2023 · Multi-Day Outlook · Temperatures Today. Share |. Current conditions at ... South Pomfret VT. This Afternoon ... Hazardous Weather Outlook · Regional Weather Conditions. The current weather report for Pomfret CT, as of 8:15 PM EST, has a sky condition of Overcast with the visibility of 10.00 miles. It is 41 degrees fahrenheit, ... All the Pomfret, CT, weather info you need for today and the next seven days. Temperature, winds, precipitation, radar, weather alerts, air quality, ... MyForecast is a comprehensive resource for online weather forecasts and reports for over 72000 locations worldcwide. You'll find detailed 48-hour and 7-day ...\u001b[0m\n",
      "Thought:\u001b[32;1m\u001b[1;3mAccording to my search, the current temperature in Pomfret, CT is 41 degrees Fahrenheit.\u001b[0m\n",
      "\n",
      "\u001b[1m> Finished chain.\u001b[0m\n"
     ]
    },
    {
     "data": {
      "text/plain": [
       "'According to my search, the current temperature in Pomfret, CT is 41 degrees Fahrenheit.'"
      ]
     },
     "execution_count": 17,
     "metadata": {},
     "output_type": "execute_result"
    }
   ],
   "source": [
    "agent_chain.run(input=\"whats the current temperature in pomfret?\")"
   ]
  },
  {
   "cell_type": "code",
   "execution_count": null,
   "id": "0084efd6",
   "metadata": {},
   "outputs": [],
   "source": []
  }
 ],
 "metadata": {
  "kernelspec": {
   "display_name": "Python 3 (ipykernel)",
   "language": "python",
   "name": "python3"
  },
  "language_info": {
   "codemirror_mode": {
    "name": "ipython",
    "version": 3
   },
   "file_extension": ".py",
   "mimetype": "text/x-python",
   "name": "python",
   "nbconvert_exporter": "python",
   "pygments_lexer": "ipython3",
   "version": "3.9.1"
  }
 },
 "nbformat": 4,
 "nbformat_minor": 5
}
